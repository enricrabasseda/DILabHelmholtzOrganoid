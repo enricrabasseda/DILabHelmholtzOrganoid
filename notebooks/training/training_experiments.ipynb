{
 "cells": [
  {
   "cell_type": "markdown",
   "metadata": {},
   "source": [
    "# Experiments on different prompts for decoder training\n",
    "\n",
    "## Dataset loading\n",
    "\n",
    "### Import libraries"
   ]
  },
  {
   "cell_type": "code",
   "execution_count": 1,
   "metadata": {},
   "outputs": [
    {
     "name": "stderr",
     "output_type": "stream",
     "text": [
      "/home/ubuntu/venv/lib/python3.10/site-packages/tqdm/auto.py:21: TqdmWarning: IProgress not found. Please update jupyter and ipywidgets. See https://ipywidgets.readthedocs.io/en/stable/user_install.html\n",
      "  from .autonotebook import tqdm as notebook_tqdm\n"
     ]
    }
   ],
   "source": [
    "from datasets import load_dataset\n",
    "import torch\n",
    "import matplotlib.pyplot as plt\n",
    "import os\n",
    "\n",
    "os.chdir(\"/home/ubuntu/\")"
   ]
  },
  {
   "cell_type": "code",
   "execution_count": 2,
   "metadata": {},
   "outputs": [],
   "source": [
    "torch.cuda.empty_cache()"
   ]
  },
  {
   "cell_type": "markdown",
   "metadata": {},
   "source": [
    "### Load dataset\n",
    "\n",
    "Load the dataset with hugging face and split between train and test."
   ]
  },
  {
   "cell_type": "code",
   "execution_count": 3,
   "metadata": {},
   "outputs": [
    {
     "name": "stdout",
     "output_type": "stream",
     "text": [
      "Length of train dataset: 3379\n",
      "Length of validation dataset 251\n"
     ]
    }
   ],
   "source": [
    "ds = load_dataset('json', data_files='/home/ubuntu/data/small_metadata.json')\n",
    "\n",
    "train_dataset = ds[\"train\"].filter(lambda example: example[\"split\"] == \"train\")\n",
    "val_dataset = ds[\"train\"].filter(lambda example: example[\"split\"] == \"val\")\n",
    "del(ds)\n",
    "print(f'Length of train dataset:', len(train_dataset))\n",
    "print(f'Length of validation dataset', len(val_dataset))"
   ]
  },
  {
   "cell_type": "markdown",
   "metadata": {},
   "source": [
    "Define the local folder where the dataset is located."
   ]
  },
  {
   "cell_type": "code",
   "execution_count": 4,
   "metadata": {},
   "outputs": [],
   "source": [
    "# Define dataset location folder\n",
    "data_folder = \"/home/ubuntu/data/\""
   ]
  },
  {
   "cell_type": "markdown",
   "metadata": {},
   "source": [
    "Define the processor (encoder) of SAM."
   ]
  },
  {
   "cell_type": "code",
   "execution_count": 5,
   "metadata": {},
   "outputs": [],
   "source": [
    "from transformers import SamProcessor\n",
    "\n",
    "processor = SamProcessor.from_pretrained(\"facebook/sam-vit-base\")"
   ]
  },
  {
   "cell_type": "markdown",
   "metadata": {},
   "source": [
    "Adapt the actual dataset for SAM."
   ]
  },
  {
   "cell_type": "code",
   "execution_count": 6,
   "metadata": {},
   "outputs": [],
   "source": [
    "from utils.sam_dataset import SAMDataset\n",
    "sam_train_dataset = SAMDataset(dataset=train_dataset, processor=processor, data_folder=data_folder)\n",
    "sam_val_dataset = SAMDataset(dataset=val_dataset, processor=processor, data_folder=data_folder)"
   ]
  },
  {
   "cell_type": "code",
   "execution_count": 7,
   "metadata": {},
   "outputs": [
    {
     "name": "stdout",
     "output_type": "stream",
     "text": [
      "Keys in item: dict_keys(['pixel_values', 'original_sizes', 'reshaped_input_sizes', 'input_boxes', 'input_points', 'ground_truth_mask', 'original_image', 'gt_box'])\n"
     ]
    }
   ],
   "source": [
    "item = sam_train_dataset[0]\n",
    "print(\"Keys in item:\", item.keys())  # Add this line to print the keys"
   ]
  },
  {
   "cell_type": "markdown",
   "metadata": {},
   "source": [
    "### Create PyTorch dataloader"
   ]
  },
  {
   "cell_type": "code",
   "execution_count": 8,
   "metadata": {},
   "outputs": [],
   "source": [
    "from torch.utils.data import DataLoader\n",
    "\n",
    "sam_train_dataloader = DataLoader(sam_train_dataset, batch_size=1, shuffle=True)\n",
    "sam_val_dataloader = DataLoader(sam_val_dataset, batch_size=1, shuffle=True)"
   ]
  },
  {
   "cell_type": "markdown",
   "metadata": {},
   "source": [
    "## Train SAM\n",
    "\n",
    "### Load the model\n",
    "\n",
    "Make sure we only compute gradients for the mask decoder"
   ]
  },
  {
   "cell_type": "code",
   "execution_count": 9,
   "metadata": {},
   "outputs": [],
   "source": [
    "from transformers import SamModel \n",
    "\n",
    "model = SamModel.from_pretrained(\"facebook/sam-vit-base\")\n",
    "\n",
    "for name, param in model.named_parameters():\n",
    "  if name.startswith(\"vision_encoder\") or name.startswith(\"prompt_encoder\"):\n",
    "    param.requires_grad_(False)\n",
    "del(name)"
   ]
  },
  {
   "cell_type": "markdown",
   "metadata": {},
   "source": [
    "### Train the model"
   ]
  },
  {
   "cell_type": "code",
   "execution_count": 16,
   "metadata": {},
   "outputs": [
    {
     "name": "stderr",
     "output_type": "stream",
     "text": [
      "100%|██████████| 3379/3379 [29:46<00:00,  1.89it/s]\n"
     ]
    },
    {
     "name": "stdout",
     "output_type": "stream",
     "text": [
      "EPOCH: 1\n",
      "Train dataset mean loss: 0.1003560779988876\n"
     ]
    },
    {
     "name": "stderr",
     "output_type": "stream",
     "text": [
      "100%|██████████| 251/251 [02:07<00:00,  1.97it/s]\n"
     ]
    },
    {
     "name": "stdout",
     "output_type": "stream",
     "text": [
      "Validation dataset mean loss: 0.14840763867406018\n"
     ]
    },
    {
     "name": "stderr",
     "output_type": "stream",
     "text": [
      "100%|██████████| 3379/3379 [29:37<00:00,  1.90it/s]\n"
     ]
    },
    {
     "name": "stdout",
     "output_type": "stream",
     "text": [
      "EPOCH: 1\n",
      "Train dataset mean loss: 0.09944262888010225\n"
     ]
    },
    {
     "name": "stderr",
     "output_type": "stream",
     "text": [
      "100%|██████████| 251/251 [02:07<00:00,  1.97it/s]\n"
     ]
    },
    {
     "name": "stdout",
     "output_type": "stream",
     "text": [
      "Validation dataset mean loss: 0.14843453069132162\n"
     ]
    },
    {
     "name": "stderr",
     "output_type": "stream",
     "text": [
      "100%|██████████| 3379/3379 [29:44<00:00,  1.89it/s]\n"
     ]
    },
    {
     "name": "stdout",
     "output_type": "stream",
     "text": [
      "EPOCH: 1\n",
      "Train dataset mean loss: 0.09777229841993959\n"
     ]
    },
    {
     "name": "stderr",
     "output_type": "stream",
     "text": [
      "100%|██████████| 251/251 [02:07<00:00,  1.97it/s]\n"
     ]
    },
    {
     "name": "stdout",
     "output_type": "stream",
     "text": [
      "Validation dataset mean loss: 0.139862050677082\n"
     ]
    }
   ],
   "source": [
    "from torch.optim import Adam\n",
    "import monai\n",
    "from utils.model_training import train_model\n",
    "\n",
    "device = \"cuda\" if torch.cuda.is_available() else \"cpu\"\n",
    "\n",
    "# Note: Hyperparameter tuning could improve performance here\n",
    "optimizer = Adam(model.mask_decoder.parameters(), lr=1e-5, weight_decay=1e-4)\n",
    "# Define loss\n",
    "geom_loss = monai.losses.DiceCELoss(sigmoid=True, squared_pred=True, reduction='mean')\n",
    "# Define number of epochs\n",
    "num_epochs = 1\n",
    "# Define parameters for topological loss\n",
    "topo_param = {'lamda': 0.1, \n",
    "              'interp': 50, \n",
    "              'feat_d': 1, \n",
    "              'loss_q': 2, \n",
    "              'loss_r': False}\n",
    "# Run training function\n",
    "for i in range(13, 16):\n",
    "    train_model(model = model, prompt = \"box\", optimizer = optimizer, geometric_loss = geom_loss, \n",
    "                train_dataloader = sam_train_dataloader, val_dataloader=sam_val_dataloader, \n",
    "                num_epochs = num_epochs, device = device, geom_interp = 150,\n",
    "                topological_loss = True, topo_param = topo_param)\n",
    "    model_name = \"/home/ubuntu/models/sam_experiments/topo-no-reg-lambda-0.1_geom-int150_box-prompt_ep-\" + str(i) + \".pth\"\n",
    "    torch.save(model, model_name)\n",
    "    "
   ]
  },
  {
   "cell_type": "code",
   "execution_count": 16,
   "metadata": {},
   "outputs": [],
   "source": [
    "case_1_train_loss = [0.208379, 0.169627, 0.153871, 0.148901, 0.139778, 0.136574, 0.133296, 0.129903, 0.127568, 0.123879, 0.122559, 0.120981, 0.117350, 0.115167, 0.115156]\n",
    "case_1_val_loss = [0.194046, 0.181619, 0.175414, 0.167279, 0.158477, 0.162258, 0.156139, 0.159229, 0.159447, 0.153835, 0.164574, 0.157481, 0.165515, 0.146057, 0.1521126]\n",
    "case_2_train_loss = [0.272679, 0.199611, 0.180806, 0.171409, 0.164641, 0.157219, 0.155375, 0.146513, 0.142123, 0.137923, 0.134436, 0.135501, 0.131146, 0.129399, 0.124954]\n",
    "case_2_val_loss = [0.246064, 0.228632, 0.209754, 0.199193, 0.202144, 0.191142, 0.190719, 0.185964, 0.205826, 0.176417, 0.185357, 0.171031, 0.176258, 0.174036, 0.176917]\n",
    "case_3_train_loss = [0.191003, 0.145116, 0.133745, 0.122715, 0.117432, 0.112824, 0.107166, 0.105859, 0.106329, 0.101336, 0.099127, 0.098851, 0.095615, 0.094015, 0.089879]\n",
    "case_3_val_loss = [0.170964, 0.159436, 0.163678, 0.154976, 0.148447, 0.156134, 0.149631, 0.151427, 0.141092, 0.138918, 0.149186, 0.139226, 0.140601, 0.147948, 0.143565]\n",
    "case_4_train_loss = [0.243093, 0.175259, 0.156619, 0.143798, 0.136520, 0.128965, 0.126603, 0.123102, 0.121179, 0.116352, 0.112472, 0.109109, 0.112735, 0.108070, 0.106040]\n",
    "case_4_val_loss = [0.219260, 0.209367, 0.184754, 0.178854, 0.168810, 0.171555, 0.174698, 0.173599, 0.167553, 0.177013, 0.170981, 0.166561, 0.164811, 0.167652, 0.164475]"
   ]
  },
  {
   "cell_type": "markdown",
   "metadata": {},
   "source": [
    "These are the losses for $\\lambda = 0.01$. We will keep the model of epoch 12, since it is the best one so far. We have saved it here `/home/ubuntu/models/sam_experiments/topo-no-reg-lambda-0.01_geom-int150_box-prompt.pth`"
   ]
  },
  {
   "cell_type": "code",
   "execution_count": 12,
   "metadata": {},
   "outputs": [],
   "source": [
    "case_1_train_loss = [0.192999, 0.145941, 0.131385, 0.125927, 0.119163, 0.113231, 0.112586, 0.109252, 0.106909, 0.1026, 0.101332, 0.096812, 0.096364, 0.09444, 0.092038]\n",
    "case_1_val_loss = [0.171319, 0.171174, 0.161899, 0.155438, 0.158695, 0.151913, 0.147609, 0.151481, 0.1423, 0.1463, 0.141797, 0.141678, 0.1447027, 0.142067, 0.144392]"
   ]
  },
  {
   "cell_type": "markdown",
   "metadata": {},
   "source": [
    "These are the losses for $\\lambda = 0.1$. We will keep the model of epoch 15, since it is the best one so far. We have saved it here `/home/ubuntu/models/sam_experiments/topo-no-reg-lambda-0.1_geom-int150_box-prompt.pth`"
   ]
  },
  {
   "cell_type": "code",
   "execution_count": 17,
   "metadata": {},
   "outputs": [],
   "source": [
    "case_1_train_loss = [0.199781, 0.152704, 0.139115, 0.130058, 0.122876, 0.117326, 0.114431, 0.112403, 0.110124, 0.109209, 0.103794, 0.103095, 0.100305, 0.099443, 0.097772]\n",
    "case_1_val_loss = [0.178758, 0.167301, 0.163163, 0.156672, 0.151552, 0.160246, 0.154067, 0.148974, 0.149704, 0.150558, 0.142496, 0.149875, 0.148407, 0.148434, 0.139862]"
   ]
  },
  {
   "cell_type": "markdown",
   "metadata": {},
   "source": [
    "### SAM trained with Topological loss (without regularisation) with interpolation of 50, geometrical loss with interpolation of 150 and box prompt\n",
    "\n",
    "The training takes around 32min per epoch. Weight decay was `weight_decay = 1e-4` and learning rate was `lr = 1e-5`. We have used batch size 1.\n",
    "\n",
    "Right we have trained the model for 15 epochs, and the best one was the 14th.\n",
    "\n",
    "Let us plot the results."
   ]
  },
  {
   "cell_type": "code",
   "execution_count": 18,
   "metadata": {},
   "outputs": [
    {
     "data": {
      "image/png": "[encoded data removed]",
      "text/plain": [
       "<Figure size 640x480 with 1 Axes>"
      ]
     },
     "metadata": {},
     "output_type": "display_data"
    }
   ],
   "source": [
    "ep = range(1,len(case_1_train_loss)+1)\n",
    "\n",
    "plt.plot(ep, case_1_train_loss, label = 'train_loss')\n",
    "plt.plot(ep, case_1_val_loss, label = 'val_loss')\n",
    "\n",
    "plt.xlabel('Epochs')\n",
    "plt.ylabel('Average loss')\n",
    "plt.legend()\n",
    "plt.title('Training loss comparison')\n",
    "plt.show()"
   ]
  },
  {
   "cell_type": "markdown",
   "metadata": {},
   "source": [
    "Save the model for later."
   ]
  },
  {
   "cell_type": "code",
   "execution_count": 19,
   "metadata": {},
   "outputs": [],
   "source": [
    "torch.save(model, \"/home/ubuntu/models/sam_experiments/topo-no-reg-lambda-0.1_geom-int150_box-prompt.pth\")"
   ]
  },
  {
   "cell_type": "markdown",
   "metadata": {},
   "source": [
    "Load the saved model if necessary to train further."
   ]
  },
  {
   "cell_type": "code",
   "execution_count": 15,
   "metadata": {},
   "outputs": [],
   "source": [
    "model = torch.load(\"/home/ubuntu/models/sam_experiments/topo-no-reg-lambda-0.1_geom-int150_box-prompt_ep-12.pth\")\n",
    "for name, param in model.named_parameters():\n",
    "  if name.startswith(\"vision_encoder\") or name.startswith(\"prompt_encoder\"):\n",
    "    param.requires_grad_(False)\n",
    "del(name)"
   ]
  },
  {
   "cell_type": "markdown",
   "metadata": {},
   "source": [
    "The best model for this configuration has been in epoch 14, and we have saved it in `\"/home/ubuntu/models/sam_experiments/topo-no-reg_geom-int150_box-prompt.pth\"`."
   ]
  },
  {
   "cell_type": "markdown",
   "metadata": {},
   "source": [
    "### SAM trained with Topological loss (without regularisation) with interpolation of 50, geometrical loss with interpolation of 150 and point prompt\n",
    "\n",
    "The training takes around 32min per epoch. Weight decay was `weight_decay = 1e-5` and learning rate was `lr = 1e-4`. We have used batch size 1.\n",
    "\n",
    "Right we have trained the model for 15 epochs, and the best one was the 12th.\n",
    "\n",
    "Let us plot the results."
   ]
  },
  {
   "cell_type": "code",
   "execution_count": 13,
   "metadata": {},
   "outputs": [
    {
     "data": {
      "image/png": "[encoded data removed]",
      "text/plain": [
       "<Figure size 640x480 with 1 Axes>"
      ]
     },
     "metadata": {},
     "output_type": "display_data"
    }
   ],
   "source": [
    "ep = range(1,len(case_2_train_loss)+1)\n",
    "\n",
    "plt.plot(ep, case_2_train_loss, label = 'train_loss')\n",
    "plt.plot(ep, case_2_val_loss, label = 'val_loss')\n",
    "\n",
    "plt.xlabel('Epochs')\n",
    "plt.ylabel('Average loss')\n",
    "plt.legend()\n",
    "plt.title('Training loss comparison')\n",
    "plt.show()"
   ]
  },
  {
   "cell_type": "markdown",
   "metadata": {},
   "source": [
    "Save the model for later."
   ]
  },
  {
   "cell_type": "code",
   "execution_count": 14,
   "metadata": {},
   "outputs": [],
   "source": [
    "torch.save(model, \"/home/ubuntu/models/sam_experiments/topo-no-reg_geom-int150_point-prompt_ep-15.pth\")"
   ]
  },
  {
   "cell_type": "markdown",
   "metadata": {},
   "source": [
    "Load the train model if necessary to train further."
   ]
  },
  {
   "cell_type": "code",
   "execution_count": 10,
   "metadata": {},
   "outputs": [],
   "source": [
    "model = torch.load(\"/home/ubuntu/models/sam_experiments/topo-no-reg_geom-int150_point-prompt_ep-14.pth\")\n",
    "for name, param in model.named_parameters():\n",
    "  if name.startswith(\"vision_encoder\") or name.startswith(\"prompt_encoder\"):\n",
    "    param.requires_grad_(False)\n",
    "del(name)"
   ]
  },
  {
   "cell_type": "markdown",
   "metadata": {},
   "source": [
    "The best model for this configuration has been in epoch 12, and we have saved it in `\"/home/ubuntu/models/sam_experiments/topo-no-reg_geom-int150_point-prompt.pth\"`."
   ]
  },
  {
   "cell_type": "markdown",
   "metadata": {},
   "source": [
    "### SAM trained without Topological loss, geometrical loss with interpolation of 150 and box prompt\n",
    "\n",
    "The training takes around 27min per epoch. Weight decay was `weight_decay = 1e-4` and learning rate was `lr = 1e-5`. We have used batch size 1.\n",
    "\n",
    "Right we have trained the model for 15 epochs, and the best one was the 10th.\n",
    "\n",
    "Let us plot the results."
   ]
  },
  {
   "cell_type": "code",
   "execution_count": 26,
   "metadata": {},
   "outputs": [
    {
     "data": {
      "image/png": "[encoded data removed]",
      "text/plain": [
       "<Figure size 640x480 with 1 Axes>"
      ]
     },
     "metadata": {},
     "output_type": "display_data"
    }
   ],
   "source": [
    "ep = range(1,len(case_3_train_loss)+1)\n",
    "\n",
    "plt.plot(ep, case_3_train_loss, label = 'train_loss')\n",
    "plt.plot(ep, case_3_val_loss, label = 'val_loss')\n",
    "\n",
    "plt.xlabel('Epochs')\n",
    "plt.ylabel('Average loss')\n",
    "plt.legend()\n",
    "plt.title('Training loss comparison')\n",
    "plt.show()"
   ]
  },
  {
   "cell_type": "markdown",
   "metadata": {},
   "source": [
    "Save the model for later."
   ]
  },
  {
   "cell_type": "code",
   "execution_count": 27,
   "metadata": {},
   "outputs": [],
   "source": [
    "torch.save(model, \"/home/ubuntu/models/sam_experiments/no-topo_geom-int150_box-prompt_ep-15.pth\")"
   ]
  },
  {
   "cell_type": "markdown",
   "metadata": {},
   "source": [
    "Load the train model if necessary to train further."
   ]
  },
  {
   "cell_type": "code",
   "execution_count": 11,
   "metadata": {},
   "outputs": [],
   "source": [
    "model = torch.load(\"/home/ubuntu/models/sam_experiments/no-topo_geom-int150_box-prompt_ep-9.pth\")\n",
    "for name, param in model.named_parameters():\n",
    "  if name.startswith(\"vision_encoder\") or name.startswith(\"prompt_encoder\"):\n",
    "    param.requires_grad_(False)\n",
    "del(name)"
   ]
  },
  {
   "cell_type": "markdown",
   "metadata": {},
   "source": [
    "### SAM trained without Topological loss, geometrical loss with interpolation of 150 and point prompt\n",
    "\n",
    "The training takes around 27min per epoch. Weight decay was `weight_decay = 1e-4` and learning rate was `lr = 1e-5`. We have used batch size 1.\n",
    "\n",
    "Right we have trained the model for 15 epochs, and the best one was the 15th.\n",
    "\n",
    "Let us plot the results."
   ]
  },
  {
   "cell_type": "code",
   "execution_count": 17,
   "metadata": {},
   "outputs": [
    {
     "data": {
      "image/png": "[encoded data removed]",
      "text/plain": [
       "<Figure size 640x480 with 1 Axes>"
      ]
     },
     "metadata": {},
     "output_type": "display_data"
    }
   ],
   "source": [
    "ep = range(1,len(case_4_train_loss)+1)\n",
    "\n",
    "plt.plot(ep, case_4_train_loss, label = 'train_loss')\n",
    "plt.plot(ep, case_4_val_loss, label = 'val_loss')\n",
    "\n",
    "plt.xlabel('Epochs')\n",
    "plt.ylabel('Average loss')\n",
    "plt.legend()\n",
    "plt.title('Training loss comparison')\n",
    "plt.show()"
   ]
  },
  {
   "cell_type": "markdown",
   "metadata": {},
   "source": [
    "Save the model for later."
   ]
  },
  {
   "cell_type": "code",
   "execution_count": 19,
   "metadata": {},
   "outputs": [],
   "source": [
    "torch.save(model, \"/home/ubuntu/models/sam_experiments/no-topo_geom-int150_point-prompt.pth\")"
   ]
  },
  {
   "cell_type": "markdown",
   "metadata": {},
   "source": [
    "Load the train model if necessary to train further."
   ]
  },
  {
   "cell_type": "code",
   "execution_count": 10,
   "metadata": {},
   "outputs": [],
   "source": [
    "model = torch.load(\"/home/ubuntu/models/sam_experiments/no-topo_geom-int150_point-prompt_ep-11.pth\")\n",
    "for name, param in model.named_parameters():\n",
    "  if name.startswith(\"vision_encoder\") or name.startswith(\"prompt_encoder\"):\n",
    "    param.requires_grad_(False)\n",
    "del(name)"
   ]
  },
  {
   "cell_type": "markdown",
   "metadata": {},
   "source": [
    "# Metrics on test dataset\n",
    "\n",
    "### Import libraries"
   ]
  },
  {
   "cell_type": "code",
   "execution_count": 1,
   "metadata": {},
   "outputs": [
    {
     "name": "stderr",
     "output_type": "stream",
     "text": [
      "/home/ubuntu/venv/lib/python3.10/site-packages/tqdm/auto.py:21: TqdmWarning: IProgress not found. Please update jupyter and ipywidgets. See https://ipywidgets.readthedocs.io/en/stable/user_install.html\n",
      "  from .autonotebook import tqdm as notebook_tqdm\n"
     ]
    }
   ],
   "source": [
    "from datasets import load_dataset\n",
    "import torch\n",
    "import matplotlib.pyplot as plt\n",
    "import os\n",
    "\n",
    "os.chdir(\"/home/ubuntu/\")"
   ]
  },
  {
   "cell_type": "markdown",
   "metadata": {},
   "source": [
    "## Load dataset\n",
    "\n",
    "First we will load the test dataset from the small subset of the total dataset."
   ]
  },
  {
   "cell_type": "code",
   "execution_count": 2,
   "metadata": {},
   "outputs": [
    {
     "name": "stdout",
     "output_type": "stream",
     "text": [
      "Length of test dataset: 379\n"
     ]
    }
   ],
   "source": [
    "ds = load_dataset('json', data_files='/home/ubuntu/data/small_metadata.json')\n",
    "\n",
    "test_dataset = ds[\"train\"].filter(lambda example: example[\"split\"] == \"test\")\n",
    "del(ds)\n",
    "print(f'Length of test dataset:', len(test_dataset))"
   ]
  },
  {
   "cell_type": "markdown",
   "metadata": {},
   "source": [
    "Convert to a SAM dataset class."
   ]
  },
  {
   "cell_type": "code",
   "execution_count": 3,
   "metadata": {},
   "outputs": [],
   "source": [
    "from utils.sam_dataset import SAMDataset\n",
    "from transformers import SamProcessor\n",
    "# Define dataset location folder\n",
    "data_folder = \"/home/ubuntu/data/\"\n",
    "processor = SamProcessor.from_pretrained(\"facebook/sam-vit-base\")\n",
    "sam_test_dataset = SAMDataset(dataset=test_dataset, processor=processor, data_folder=data_folder)"
   ]
  },
  {
   "cell_type": "markdown",
   "metadata": {},
   "source": [
    "## Load models\n",
    "\n",
    "We load all the models trained before.\n",
    "* Model 1: SAM trained with topological and geometrical loss with box prompt\n",
    "* Model 2: SAM trained with topological and geometrical loss with point prompt\n",
    "* Model 3: SAM trained with geometrical loss with box prompt\n",
    "* Model 4: SAM trained with geometrical loss with point prompt"
   ]
  },
  {
   "cell_type": "code",
   "execution_count": 4,
   "metadata": {},
   "outputs": [],
   "source": [
    "model_1 = torch.load(\"/home/ubuntu/models/sam_experiments/topo-no-reg_geom-int150_box-prompt.pth\")\n",
    "for name, param in model_1.named_parameters():\n",
    "  if name.startswith(\"vision_encoder\") or name.startswith(\"prompt_encoder\"):\n",
    "    param.requires_grad_(False)\n",
    "\n",
    "model_2 = torch.load(\"/home/ubuntu/models/sam_experiments/topo-no-reg_geom-int150_point-prompt.pth\")\n",
    "for name, param in model_2.named_parameters():\n",
    "  if name.startswith(\"vision_encoder\") or name.startswith(\"prompt_encoder\"):\n",
    "    param.requires_grad_(False)\n",
    "\n",
    "model_3 = torch.load(\"/home/ubuntu/models/sam_experiments/no-topo_geom-int150_box-prompt.pth\")\n",
    "for name, param in model_3.named_parameters():\n",
    "  if name.startswith(\"vision_encoder\") or name.startswith(\"prompt_encoder\"):\n",
    "    param.requires_grad_(False)\n",
    "\n",
    "model_4 = torch.load(\"/home/ubuntu/models/sam_experiments/no-topo_geom-int150_point-prompt.pth\")\n",
    "for name, param in model_4.named_parameters():\n",
    "  if name.startswith(\"vision_encoder\") or name.startswith(\"prompt_encoder\"):\n",
    "    param.requires_grad_(False)"
   ]
  },
  {
   "cell_type": "markdown",
   "metadata": {},
   "source": [
    "## Compute the metrics for every model\n",
    "\n",
    "Given a model and a dataloader this function returns a dictionary with all the metrics for that model.\n",
    "\n",
    "We will compute many different metrics for every model:\n",
    "| Metric     | Definition |\n",
    "| ----- | ---------- |\n",
    "| Intersection over Union `IoU`   | Formula = Intersection / Union |\n",
    "| Dice Square Coefficient `DSC` | Formula: Dice = (2 * Intersection) / (Sum of squares of the masks' areas) |\n",
    "| Surface Distance `SurfDist` | Recently discovered by Deepmind |\n",
    "| Sensitivity `Sens` | Formula: Sensitivity = True Positives / (True Positives + False Negatives) |\n",
    "| Specificity `Spec` | Formula: Specificity = True Negatives / (True Negatives + False Positives) |\n",
    "| Hausdorff Distance `HausDist` | Quantifies the maximum distance between the contours of the predicted and ground truth masks |\n",
    "| Average Precision `AP` | Computed by integrating the precision-recall curve |\n",
    "| F1 Score `F1` | Formula: F1 Score = 2 * (Precision * Recall) / (Precision + Recall) |"
   ]
  },
  {
   "cell_type": "code",
   "execution_count": 7,
   "metadata": {},
   "outputs": [],
   "source": [
    "import torch.nn.functional as F\n",
    "from utils.metrics import iou, dsc, surfdist, sensitivity, specificity, hausdorff_dist, ap, f1_score\n",
    "from statistics import mean\n",
    "def metrics_calculation(model, test_dataloader, prompt, device):\n",
    "    \"\"\"\n",
    "    Compute all the metrics above for one model on a given dataset.\n",
    "\n",
    "    Args:\n",
    "        model (transformers.model): model to use\n",
    "        test_dataloader (torch.utils.data.dataloader.DataLoader): dataloader for the test dataset\n",
    "        prompt (string): \"box\" or \"point\" depending on how we want to do the inference\n",
    "        device (string): device where we work\n",
    "\n",
    "    Returns:\n",
    "        metrics_dict (dictionary): dictionary containing all array with metrics for every image\n",
    "    \"\"\"\n",
    "    iou_values = []\n",
    "    dsc_values = []\n",
    "    surfdist_values = []\n",
    "    sens_values = []\n",
    "    spec_values = []\n",
    "    hausdist_values = []\n",
    "    ap_values = []\n",
    "    f1_values = []\n",
    "\n",
    "    # Set model to device\n",
    "    model.to(device)\n",
    "    # Set evaluation mode\n",
    "    model.eval()\n",
    "\n",
    "    # Run on all batches\n",
    "    for batch in test_dataloader:\n",
    "        # Get ground-truth masks\n",
    "        ground_truth_masks = batch[\"ground_truth_mask\"].float().unsqueeze(1).to(device)\n",
    "        _, _, m_h, m_w = ground_truth_masks.shape\n",
    "            \n",
    "        # Do not compute gradients anywhere\n",
    "        with torch.no_grad():\n",
    "        # Forward pass\n",
    "            if prompt == \"point\":\n",
    "                outputs = model(pixel_values=batch[\"pixel_values\"].to(device),\n",
    "                                input_points=batch[\"input_points\"].to(device),\n",
    "                                multimask_output=False)\n",
    "            elif prompt == \"box\":\n",
    "                outputs = model(pixel_values=batch[\"pixel_values\"].to(device),\n",
    "                                input_boxes=batch[\"input_boxes\"].to(device),\n",
    "                                multimask_output=False)\n",
    "        # Get masks\n",
    "        predicted_masks = outputs.pred_masks.to(device)\n",
    "        # Masks post processing\n",
    "        predicted_masks = F.interpolate(predicted_masks.squeeze(1), (1024, 1024), \n",
    "                                        mode=\"bilinear\", align_corners=False)\n",
    "        predicted_masks = predicted_masks[..., :992, :1024]\n",
    "        predicted_masks = F.interpolate(predicted_masks, (m_h, m_w), \n",
    "                                        mode=\"bilinear\", align_corners=False)\n",
    "        \n",
    "        # Apply sigmoid\n",
    "        predicted_masks = torch.sigmoid(predicted_masks)\n",
    "\n",
    "        # Compute metrics\n",
    "        iou_values.append(iou(predicted_masks, ground_truth_masks))\n",
    "        dsc_values.append(dsc(predicted_masks, ground_truth_masks))\n",
    "        surfdist_values.append(surfdist(predicted_masks, ground_truth_masks))\n",
    "        sens_values.append(sensitivity(predicted_masks, ground_truth_masks))\n",
    "        spec_values.append(specificity(predicted_masks, ground_truth_masks))\n",
    "        hausdist_values.append(hausdorff_dist(predicted_masks, ground_truth_masks))\n",
    "        ap_values.append(ap(predicted_masks, ground_truth_masks))\n",
    "        f1_values.append(f1_score(predicted_masks, ground_truth_masks))\n",
    "    \n",
    "    # Create dictionary with all values\n",
    "    metrics_dict = {}\n",
    "    metrics_dict[\"IoU\"] = mean(iou_values)\n",
    "    metrics_dict[\"DSC\"] = mean(dsc_values)\n",
    "    metrics_dict[\"SurfDist\"] = mean(surfdist_values)\n",
    "    metrics_dict[\"Sens\"] = mean(sens_values)\n",
    "    metrics_dict[\"Spec\"] = mean(spec_values)\n",
    "    metrics_dict[\"HausDist\"] = mean(hausdist_values)\n",
    "    metrics_dict[\"AP\"] = mean(ap_values)\n",
    "    metrics_dict[\"F1\"] = mean(f1_values)\n",
    "\n",
    "    return metrics_dict\n"
   ]
  },
  {
   "cell_type": "code",
   "execution_count": 8,
   "metadata": {},
   "outputs": [
    {
     "name": "stderr",
     "output_type": "stream",
     "text": [
      "/home/ubuntu/venv/lib/python3.10/site-packages/monai/metrics/utils.py:338: UserWarning: the prediction of class 0 is all 0, this may result in nan/inf distance.\n",
      "  warnings.warn(\n"
     ]
    }
   ],
   "source": [
    "import torch.utils.data as DataLoader\n",
    "\n",
    "# Create dataloader for the dataset\n",
    "sam_test_dataloader = DataLoader.DataLoader(sam_test_dataset, batch_size=1, shuffle=True)\n",
    "device = \"cuda\"\n",
    "\n",
    "# Compute metrics\n",
    "metrics_model_1 = metrics_calculation(model = model_1.to(device), test_dataloader=sam_test_dataloader, prompt = \"box\", device = \"cuda\")\n",
    "metrics_model_2 = metrics_calculation(model = model_2.to(device), test_dataloader=sam_test_dataloader, prompt = \"point\", device = \"cuda\")\n",
    "metrics_model_3 = metrics_calculation(model = model_3.to(device), test_dataloader=sam_test_dataloader, prompt = \"box\", device = \"cuda\")\n",
    "metrics_model_4 = metrics_calculation(model = model_4.to(device), test_dataloader=sam_test_dataloader, prompt = \"point\", device = \"cuda\")\n"
   ]
  },
  {
   "cell_type": "markdown",
   "metadata": {},
   "source": [
    "### Save the results.\n",
    "\n",
    "We will save the results on a `results.csv` that can be later used to compare the models."
   ]
  },
  {
   "cell_type": "code",
   "execution_count": 9,
   "metadata": {},
   "outputs": [],
   "source": [
    "import pandas as pd\n",
    "\n",
    "# Save information in lists\n",
    "models_list = [\"SAM trained with Topo. + Geom. Loss and box prompt\",\n",
    "               \"SAM trained with Topo. + Geom. Loss and point prompt\",\n",
    "               \"SAM trained with Geom. Loss and box prompt\",\n",
    "               \"SAM trained with Geom. Loss and point prompt\"]\n",
    "iou_list = [metrics_model_1[\"IoU\"], metrics_model_2[\"IoU\"], metrics_model_3[\"IoU\"], metrics_model_4[\"IoU\"]]\n",
    "dsc_list = [metrics_model_1[\"DSC\"], metrics_model_2[\"DSC\"], metrics_model_3[\"DSC\"], metrics_model_4[\"DSC\"]]\n",
    "surfdist_list = [metrics_model_1[\"SurfDist\"], metrics_model_2[\"SurfDist\"], metrics_model_3[\"SurfDist\"], metrics_model_4[\"SurfDist\"]]\n",
    "sens_list = [metrics_model_1[\"Sens\"], metrics_model_2[\"Sens\"], metrics_model_3[\"Sens\"], metrics_model_4[\"Sens\"]]\n",
    "spec_list = [metrics_model_1[\"Spec\"], metrics_model_2[\"Spec\"], metrics_model_3[\"Spec\"], metrics_model_4[\"Spec\"]]\n",
    "hausdist_list = [metrics_model_1[\"HausDist\"], metrics_model_2[\"HausDist\"], metrics_model_3[\"HausDist\"], metrics_model_4[\"HausDist\"]]\n",
    "ap_list = [metrics_model_1[\"AP\"], metrics_model_2[\"AP\"], metrics_model_3[\"AP\"], metrics_model_4[\"AP\"]]\n",
    "f1_list = [metrics_model_1[\"F1\"], metrics_model_2[\"F1\"], metrics_model_3[\"F1\"], metrics_model_4[\"F1\"]]\n",
    "\n",
    "# Save dataframe and later to .csv\n",
    "df = pd.DataFrame(list(zip(models_list, iou_list, dsc_list, surfdist_list,\n",
    "                           sens_list, spec_list, hausdist_list, ap_list, f1_list)),\n",
    "                           columns =['Model', 'IoU', 'DSC', 'Surface Distance', 'Sensitivity', 'Specificity',\n",
    "                                     'Hausdorff Distance', 'AP', 'F1'])\n",
    "\n",
    "df.to_csv(\"/home/ubuntu/models_metrics.csv\")"
   ]
  }
 ],
 "metadata": {
  "kernelspec": {
   "display_name": "venv",
   "language": "python",
   "name": "python3"
  },
  "language_info": {
   "codemirror_mode": {
    "name": "ipython",
    "version": 3
   },
   "file_extension": ".py",
   "mimetype": "text/x-python",
   "name": "python",
   "nbconvert_exporter": "python",
   "pygments_lexer": "ipython3",
   "version": "3.10.12"
  }
 },
 "nbformat": 4,
 "nbformat_minor": 2
}
